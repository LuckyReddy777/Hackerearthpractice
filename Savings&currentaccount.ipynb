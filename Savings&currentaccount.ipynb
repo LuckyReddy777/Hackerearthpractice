{
 "cells": [
  {
   "cell_type": "code",
   "execution_count": 1,
   "metadata": {},
   "outputs": [],
   "source": [
    "class Account:\n",
    "    def _init_ (self,accName,accNo,bankName):\n",
    "        self.accName=accName\n",
    "        self.accNo=accNo\n",
    "        self.bankName=bankName\n",
    "    def display(self):\n",
    "        print(\"AccName:{}\\nAccNo:{}\\nBankName:{}\".format(self.accName,self.accNo,self.bankNo))\n",
    "        "
   ]
  },
  {
   "cell_type": "code",
   "execution_count": null,
   "metadata": {},
   "outputs": [],
   "source": [
    "class CurrentAccount(Account):\n",
    "    def _init_ (self,accName,accNo,bankName,tinNumber):\n",
    "        super()._init_ (accName,accNo,bankName)\n",
    "        self.tinNumber=tinNumber\n",
    "    def display(self):\n",
    "        super().display()\n",
    "        print(\"TINNumber:{}\".format(self.tinNumber))"
   ]
  },
  {
   "cell_type": "code",
   "execution_count": null,
   "metadata": {},
   "outputs": [],
   "source": [
    "class SavingsAccount(Account):\n",
    "    def _init_ (self,accName,accNo,bankName,orgName):\n",
    "        super()._init_ (accName,accNo,bankName)\n",
    "        self.orgName=orgName\n",
    "    def display(self):\n",
    "        super().display()\n",
    "        print(\"orgName:{}\".format(self.orgName))"
   ]
  },
  {
   "cell_type": "code",
   "execution_count": null,
   "metadata": {},
   "outputs": [],
   "source": [
    "n=int(input())\n",
    "for i in range(n):\n",
    "    mydata=input().split(' ')\n",
    "    if mydata[0]=='Current':\n",
    "       account=currentAccount(mydata[1],mydata[2],mydata[3],mydata[4])\n",
    "    else:\n",
    "        account=savingsAccount(mydata[1],mydata[2],mydata[3],mydata[4])\n",
    "    account.display()"
   ]
  },
  {
   "cell_type": "code",
   "execution_count": null,
   "metadata": {},
   "outputs": [],
   "source": []
  }
 ],
 "metadata": {
  "kernelspec": {
   "display_name": "Python 3",
   "language": "python",
   "name": "python3"
  },
  "language_info": {
   "codemirror_mode": {
    "name": "ipython",
    "version": 3
   },
   "file_extension": ".py",
   "mimetype": "text/x-python",
   "name": "python",
   "nbconvert_exporter": "python",
   "pygments_lexer": "ipython3",
   "version": "3.7.6"
  }
 },
 "nbformat": 4,
 "nbformat_minor": 4
}
