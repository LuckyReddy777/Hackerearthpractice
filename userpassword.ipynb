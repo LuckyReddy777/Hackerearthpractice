{
 "cells": [
  {
   "cell_type": "code",
   "execution_count": 1,
   "metadata": {},
   "outputs": [],
   "source": [
    "import re"
   ]
  },
  {
   "cell_type": "code",
   "execution_count": 12,
   "metadata": {},
   "outputs": [],
   "source": [
    "class User:\n",
    "    def _init_(self,name,moblie,Username,password):\n",
    "        self.name=name\n",
    "        self.mobile=mobile\n",
    "        self.Username=Username\n",
    "        self.password=password"
   ]
  },
  {
   "cell_type": "code",
   "execution_count": 1,
   "metadata": {},
   "outputs": [
    {
     "ename": "SyntaxError",
     "evalue": "unexpected EOF while parsing (<ipython-input-1-f9ab385f4b4b>, line 8)",
     "output_type": "error",
     "traceback": [
      "\u001b[0;36m  File \u001b[0;32m\"<ipython-input-1-f9ab385f4b4b>\"\u001b[0;36m, line \u001b[0;32m8\u001b[0m\n\u001b[0;31m    raise ValueError\u001b[0m\n\u001b[0m                    ^\u001b[0m\n\u001b[0;31mSyntaxError\u001b[0m\u001b[0;31m:\u001b[0m unexpected EOF while parsing\n"
     ]
    }
   ],
   "source": [
    "def display(self):\n",
    "    regex_special=re.complie('[{@#$%&*]')\n",
    "    regex_num=re.compile('[0-9]+')\n",
    "    try:\n",
    "        if regex_num.search(self.password) and regex_special.search(self.password):\n",
    "            print('Valid')\n",
    "        else:\n",
    "              raise ValueError"
   ]
  },
  {
   "cell_type": "code",
   "execution_count": null,
   "metadata": {},
   "outputs": [],
   "source": []
  }
 ],
 "metadata": {
  "kernelspec": {
   "display_name": "Python 3",
   "language": "python",
   "name": "python3"
  },
  "language_info": {
   "codemirror_mode": {
    "name": "ipython",
    "version": 3
   },
   "file_extension": ".py",
   "mimetype": "text/x-python",
   "name": "python",
   "nbconvert_exporter": "python",
   "pygments_lexer": "ipython3",
   "version": "3.7.6"
  }
 },
 "nbformat": 4,
 "nbformat_minor": 4
}
