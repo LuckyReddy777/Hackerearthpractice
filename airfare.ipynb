{
 "cells": [
  {
   "cell_type": "code",
   "execution_count": 1,
   "metadata": {},
   "outputs": [],
   "source": [
    "from abc import ABC,abstractmethod\n",
    "class AirFare(ABC):\n",
    "    def showfare(self, source, destination):\n",
    "        pass"
   ]
  },
  {
   "cell_type": "code",
   "execution_count": 23,
   "metadata": {},
   "outputs": [
    {
     "ename": "SyntaxError",
     "evalue": "invalid syntax (<ipython-input-23-4f0e9edfc37f>, line 10)",
     "output_type": "error",
     "traceback": [
      "\u001b[0;36m  File \u001b[0;32m\"<ipython-input-23-4f0e9edfc37f>\"\u001b[0;36m, line \u001b[0;32m10\u001b[0m\n\u001b[0;31m    else:\u001b[0m\n\u001b[0m       ^\u001b[0m\n\u001b[0;31mSyntaxError\u001b[0m\u001b[0;31m:\u001b[0m invalid syntax\n"
     ]
    }
   ],
   "source": [
    "class AirIndia(AirFare):\n",
    "    def _init_ (self,SandD,travelFaredetails):\n",
    "        self.SandD=sandD\n",
    "        self.travelFaredetails=travelFaredetails\n",
    "    def showFare(self, source, destination):\n",
    "        key=source+'-'+destination\n",
    "    if key in self.travelFaredetails:\n",
    "        self.SandD=key\n",
    "    return  self.travelFaredetails[key]\n",
    "    else:\n",
    "        return None\n",
    "    def display(self,fare):\n",
    "        if fare is None:\n",
    "            print('No services to this route')\n",
    "        else:\n",
    "            print('Route:{}\\nPrice:{}'.format(self.SandD.fare))\n",
    "class Indigo(AirFare):\n",
    "    def _init_ (self,SandD,travelFaredetails):\n",
    "        self.SandD=sandD\n",
    "        self.travelFaredetails=travelFaredetails\n",
    "    def showFare(self, source, destination):\n",
    "        key=source+'-'+destination\n",
    "    if key in self.travelFaredetails:\n",
    "        self.SandD=key\n",
    "    return  self.travelFaredetails[key]\n",
    "    else:\n",
    "        return None\n",
    "    def display(self,fare):\n",
    "        if fare is None:\n",
    "            print('No services to this route')\n",
    "        else:\n",
    "            print('Route:{}\\nPrice:{}'.format(self.SandD.fare))"
   ]
  },
  {
   "cell_type": "code",
   "execution_count": 27,
   "metadata": {},
   "outputs": [
    {
     "ename": "IndentationError",
     "evalue": "unexpected indent (<ipython-input-27-b9804a6b204d>, line 11)",
     "output_type": "error",
     "traceback": [
      "\u001b[0;36m  File \u001b[0;32m\"<ipython-input-27-b9804a6b204d>\"\u001b[0;36m, line \u001b[0;32m11\u001b[0m\n\u001b[0;31m    flight.display(fare)\u001b[0m\n\u001b[0m    ^\u001b[0m\n\u001b[0;31mIndentationError\u001b[0m\u001b[0;31m:\u001b[0m unexpected indent\n"
     ]
    }
   ],
   "source": [
    "airIndia_travel_list={'Bangalore-chennai':'2309','shima-chennai':'5309'}\n",
    "Indigo_travel_list={'Bangalore-chennai':'9009','shima-chennai':'15099'}\n",
    "n=int(input())\n",
    "for i in range(n):\n",
    "    flight_type=int(input())\n",
    "    if flight_type==1:\n",
    "        flight=AirIndia(airIndia_travel_list) \n",
    "    else:\n",
    "        flight=Indigo(indigo_travel_list)\n",
    "        fare=flight.showfare(input(),input(1))\n",
    "                     flight.display(fare)"
   ]
  },
  {
   "cell_type": "code",
   "execution_count": null,
   "metadata": {},
   "outputs": [],
   "source": []
  }
 ],
 "metadata": {
  "kernelspec": {
   "display_name": "Python 3",
   "language": "python",
   "name": "python3"
  },
  "language_info": {
   "codemirror_mode": {
    "name": "ipython",
    "version": 3
   },
   "file_extension": ".py",
   "mimetype": "text/x-python",
   "name": "python",
   "nbconvert_exporter": "python",
   "pygments_lexer": "ipython3",
   "version": "3.7.6"
  }
 },
 "nbformat": 4,
 "nbformat_minor": 4
}
