{
 "cells": [
  {
   "cell_type": "code",
   "execution_count": 1,
   "metadata": {},
   "outputs": [],
   "source": [
    "import pandas\n",
    "import numpy\n"
   ]
  },
  {
   "cell_type": "code",
   "execution_count": 2,
   "metadata": {},
   "outputs": [],
   "source": [
    "class Shape:\n",
    "    def _init_ (self,area):\n",
    "        self.area=area\n",
    "    def computeArea(self):\n",
    "        self.area=0"
   ]
  },
  {
   "cell_type": "code",
   "execution_count": 3,
   "metadata": {},
   "outputs": [],
   "source": [
    "class Circle(Shape):\n",
    "    def _init_ (self,radius):\n",
    "        self.radius=radius\n",
    "    def computeArea(self):\n",
    "        self.radius=math.pi*self.radius*self.radius"
   ]
  },
  {
   "cell_type": "code",
   "execution_count": 4,
   "metadata": {},
   "outputs": [],
   "source": [
    "class Rectangle(Shape):\n",
    "    def _init_ (self,length,breadth):\n",
    "        self.length=length\n",
    "        self.breadth=breadth\n",
    "    def computeArea(self):\n",
    "        self.area=self.lenght*self.breadth"
   ]
  },
  {
   "cell_type": "code",
   "execution_count": 5,
   "metadata": {},
   "outputs": [],
   "source": [
    "class Traiangle(Shape):\n",
    "    def _init_ (self,base,height):\n",
    "        self.base=base\n",
    "        self.height=height\n",
    "    def computeArea(self):\n",
    "        self.area=0.5*self.base*self.height"
   ]
  },
  {
   "cell_type": "code",
   "execution_count": 1,
   "metadata": {},
   "outputs": [
    {
     "ename": "SyntaxError",
     "evalue": "invalid syntax (<ipython-input-1-be88bd8352e7>, line 7)",
     "output_type": "error",
     "traceback": [
      "\u001b[0;36m  File \u001b[0;32m\"<ipython-input-1-be88bd8352e7>\"\u001b[0;36m, line \u001b[0;32m7\u001b[0m\n\u001b[0;31m    circle computeArea()\u001b[0m\n\u001b[0m         ^\u001b[0m\n\u001b[0;31mSyntaxError\u001b[0m\u001b[0;31m:\u001b[0m invalid syntax\n"
     ]
    }
   ],
   "source": [
    "n=int(input())\n",
    "for i in range(n):\n",
    "    mydata=input().split(' ')\n",
    "    name=mydata[0]\n",
    "    if name=='Circle':\n",
    "        circle=Circle(float(input(1))\n",
    "        circle.computeArea()\n",
    "    print(int(circle.Area))\n",
    "    elif name=='Rectangle':\n",
    "        rectangle=Rectangle(float(input()),float(input()))\n",
    "        float(input())\n",
    "        rectangle.computeArea()\n",
    "        print(int(rectangle.area))\n",
    "    else:\n",
    "        triangle=Triangle(float(input()),float(input()))\n",
    "        float(input())\n",
    "        triangle.computeArea()\n",
    "        print(int(triangle.area))"
   ]
  },
  {
   "cell_type": "code",
   "execution_count": null,
   "metadata": {},
   "outputs": [],
   "source": []
  }
 ],
 "metadata": {
  "kernelspec": {
   "display_name": "Python 3",
   "language": "python",
   "name": "python3"
  },
  "language_info": {
   "codemirror_mode": {
    "name": "ipython",
    "version": 3
   },
   "file_extension": ".py",
   "mimetype": "text/x-python",
   "name": "python",
   "nbconvert_exporter": "python",
   "pygments_lexer": "ipython3",
   "version": "3.7.6"
  }
 },
 "nbformat": 4,
 "nbformat_minor": 4
}
