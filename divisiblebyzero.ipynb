{
 "cells": [
  {
   "cell_type": "code",
   "execution_count": null,
   "metadata": {},
   "outputs": [],
   "source": [
    "testCase = int(input())\n",
    "for i in range(testCase):\n",
    "    mydata=input().split(' ')\n",
    "    cost=int(mydata[0])\n",
    "    days=int(mydata[1])\n",
    "    try:\n",
    "        cost_per_day=int(cost/days)\n",
    "        print(cost_per_day)\n",
    "    except ArithmeticError:\n",
    "        print('Division by Zero')"
   ]
  },
  {
   "cell_type": "code",
   "execution_count": null,
   "metadata": {},
   "outputs": [],
   "source": []
  }
 ],
 "metadata": {
  "kernelspec": {
   "display_name": "Python 3",
   "language": "python",
   "name": "python3"
  },
  "language_info": {
   "codemirror_mode": {
    "name": "ipython",
    "version": 3
   },
   "file_extension": ".py",
   "mimetype": "text/x-python",
   "name": "python",
   "nbconvert_exporter": "python",
   "pygments_lexer": "ipython3",
   "version": "3.7.6"
  }
 },
 "nbformat": 4,
 "nbformat_minor": 4
}
