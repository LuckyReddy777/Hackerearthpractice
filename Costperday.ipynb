{
 "cells": [
  {
   "cell_type": "code",
   "execution_count": 1,
   "metadata": {},
   "outputs": [],
   "source": [
    "class User:\n",
    "    def _init_ (self,name,deposit,costPerDay):\n",
    "        self.name=name\n",
    "        self.deposit=deposit\n",
    "        self.costPerDay=costPerDay\n",
    "    def display(self):\n",
    "        print(\"{}{}{}\".format(self.name,int(self.deposit),int(self.costPerDay)))\n",
    "    "
   ]
  },
  {
   "cell_type": "code",
   "execution_count": null,
   "metadata": {},
   "outputs": [],
   "source": [
    "testCase=int(input())\n",
    "for i in range(testCase):\n",
    "        mydata=input().split(' ')\n",
    "        try:           \n",
    "            User=User(mydata[0],float(mydata[1]),float(mydata[2]))\n",
    "            User.display()\n",
    "        except ValueError:\n",
    "              print('Invalid Input')"
   ]
  },
  {
   "cell_type": "code",
   "execution_count": null,
   "metadata": {},
   "outputs": [],
   "source": []
  }
 ],
 "metadata": {
  "kernelspec": {
   "display_name": "Python 3",
   "language": "python",
   "name": "python3"
  },
  "language_info": {
   "codemirror_mode": {
    "name": "ipython",
    "version": 3
   },
   "file_extension": ".py",
   "mimetype": "text/x-python",
   "name": "python",
   "nbconvert_exporter": "python",
   "pygments_lexer": "ipython3",
   "version": "3.7.6"
  }
 },
 "nbformat": 4,
 "nbformat_minor": 4
}
